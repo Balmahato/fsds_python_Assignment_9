{
 "cells": [
  {
   "cell_type": "markdown",
   "id": "56ca6be0",
   "metadata": {},
   "source": [
    "Assignment 9 solutions"
   ]
  },
  {
   "cell_type": "markdown",
   "id": "74017e8e",
   "metadata": {},
   "source": [
    "1. To what does a relative path refer?"
   ]
  },
  {
   "cell_type": "markdown",
   "id": "fbca4ddb",
   "metadata": {},
   "source": [
    "Ans-: The relative path is the path to some file with respect to your current working directory (PWD).\n",
    "\n",
    "For example: if Absolute path to a file called stuff.txt is: C:/users/admin/docs/stuff.txt If my PWD is C:/users/admin/ , then the relative path to stuff.txt would be: docs/stuff.txt\n",
    "\n",
    "Note: PWD + relative path = absolute path"
   ]
  },
  {
   "cell_type": "markdown",
   "id": "795a3f7d",
   "metadata": {},
   "source": [
    "2. What does an absolute path start with your operating system?"
   ]
  },
  {
   "cell_type": "markdown",
   "id": "13cd6faa",
   "metadata": {},
   "source": [
    "Ans-: In Linux based system the absolute path stats with / . Where as in windows based system absolute path starts with c:"
   ]
  },
  {
   "cell_type": "markdown",
   "id": "da1d58c7",
   "metadata": {},
   "source": [
    "3. What do the functions os.getcwd() and os.chdir() do?"
   ]
  },
  {
   "cell_type": "markdown",
   "id": "9011fb1c",
   "metadata": {},
   "source": [
    "Ans-:  os.getcwd() method tells us the location of current working directory (CWD). Whereas os.chdir() method in Python used to change the current working directory to specified path. These functions are similar to linux commands pwd and cd"
   ]
  },
  {
   "cell_type": "code",
   "execution_count": 4,
   "id": "c47317a2",
   "metadata": {},
   "outputs": [
    {
     "name": "stdout",
     "output_type": "stream",
     "text": [
      "C:\\Users\\Ballu\\Desktop\\Assignment\\Assignment9\n",
      "C:\\Users\\Ballu\\Desktop\\Assignment\n"
     ]
    }
   ],
   "source": [
    "import os\n",
    "print(os.getcwd()) # Prints the current Working Directory\n",
    "path = r'C:\\Users\\Ballu\\Desktop\\Assignment'\n",
    "os.chdir(path)\n",
    "print(os.getcwd())"
   ]
  },
  {
   "cell_type": "markdown",
   "id": "025eb38a",
   "metadata": {},
   "source": [
    "4. What are the . and .. folders?"
   ]
  },
  {
   "cell_type": "markdown",
   "id": "0cd33262",
   "metadata": {},
   "source": [
    "Ans-:  Represents the Current Directory Whereas .. Represents the Parent Directory of the Current Directory\n",
    "    \n",
    "For Example: if the below path is my absolute path:\n",
    "        \n",
    "C:\\\\Users\\\\ballu\\\\Documents\\\\iNeuron-Assignments\\\\Python Basic Assignment\n",
    "    \n",
    "Then . represents the path C:\\\\Users\\\\ballu\\\\Documents\\\\iNeuron-Assignments\\\\Python Basic Assignment\n",
    "    \n",
    "Where as .. represents the path C:\\\\Users\\\\ballu\\\\Documents\\\\iNeuron-Assignments"
   ]
  },
  {
   "cell_type": "markdown",
   "id": "89fab220",
   "metadata": {},
   "source": [
    "5.  In C:\\bacon\\eggs\\spam.txt, which part is the dir name, and which part is the base name?"
   ]
  },
  {
   "cell_type": "markdown",
   "id": "9a9fc897",
   "metadata": {},
   "source": [
    "Ans-:For C:\\bacon\\eggs\\spam.txt\n",
    "        \n",
    "The dir name is C:\\\\bacon\\\\eggs\n",
    "    \n",
    "The Base name is spam.txt\n"
   ]
  },
  {
   "cell_type": "code",
   "execution_count": 5,
   "id": "2021f960",
   "metadata": {},
   "outputs": [
    {
     "name": "stdout",
     "output_type": "stream",
     "text": [
      "C:\\Users\\Ballu\\Desktop\\bacon\n",
      "egg\n"
     ]
    }
   ],
   "source": [
    "import os\n",
    "path = r'C:\\Users\\Ballu\\Desktop\\bacon\\egg'\n",
    "print(os.path.dirname(path))\n",
    "print(os.path.basename(path))"
   ]
  },
  {
   "cell_type": "markdown",
   "id": "539dacbb",
   "metadata": {},
   "source": [
    "6. What are the three “mode” arguments that can be passed to the open() function?"
   ]
  },
  {
   "cell_type": "markdown",
   "id": "84a4724b",
   "metadata": {},
   "source": [
    "Ans-:A file can be Accessed in python using open() function. open function takes two arguments filename and mode of operation (optional). if mode is not provided the default mode of opening is read mode\n",
    "So, the syntax being: open(filename, mode)"
   ]
  },
  {
   "cell_type": "markdown",
   "id": "ae6d39f8",
   "metadata": {},
   "source": [
    "‘r’ – Read Mode: This is the default mode for open(). The file is opened and a pointer is positioned at the beginning of the file’s content.\n",
    "\n",
    "‘w’ – Write Mode: Using this mode will overwrite any existing content in a file. If the given file does not exist, a new one will be created.\n",
    "\n",
    "‘r+’ – Read/Write Mode: Use this mode if you need to simultaneously read and write to a file.\n",
    "‘a’ – Append Mode: With this mode the user can append the data without overwriting any already existing data in the file.\n",
    "\n",
    "‘a+’ – Append and Read Mode: In this mode you can read and append the data without overwriting the original file.\n",
    "\n",
    "‘x’ – Exclusive Creating Mode: This mode is for the sole purpose of creating new files. Use this mode if you know the file\n",
    "to be written doesn’t exist beforehand.\n",
    "\n"
   ]
  },
  {
   "cell_type": "markdown",
   "id": "293baa97",
   "metadata": {},
   "source": [
    "7. What happens if an existing file is opened in write mode ?"
   ]
  },
  {
   "cell_type": "markdown",
   "id": "91d01f80",
   "metadata": {},
   "source": [
    "Ans-:  Using this mode will overwrite any existing content in a file. If the given file does not exist, a new one will be created."
   ]
  },
  {
   "cell_type": "markdown",
   "id": "81c7a002",
   "metadata": {},
   "source": [
    "8.How do you tell the difference between read() and readlines() ?"
   ]
  },
  {
   "cell_type": "markdown",
   "id": "4601c214",
   "metadata": {},
   "source": [
    "Ans-: The main difference is that read() will read the whole file at once and then print out the first characters that take up as many bytes as you specify in the parenthesis"
   ]
  },
  {
   "cell_type": "markdown",
   "id": "c0de2f74",
   "metadata": {},
   "source": [
    "Whereas the readline() that will read and print out only the first characters that take up as many bytes as you specify in the parenthesis. You may want to use readline() when you're reading files that are too big for your RAM.\n",
    "\n",
    "The read() would treat each character in the file separately, meaning that the iteration would happen for every character.\n",
    "\n",
    "The readline() function, on the other hand, only reads a single line of the file. This means that if the first line of the\n",
    "file were three lines long, the readline() function would only parse (or iterate/operate) on the first line of the file."
   ]
  },
  {
   "cell_type": "markdown",
   "id": "4cd41383",
   "metadata": {},
   "source": [
    "9. What data structure does a shelf value resemble?"
   ]
  },
  {
   "cell_type": "markdown",
   "id": "96c12202",
   "metadata": {},
   "source": [
    "Ans-:it contains key and values it represents dictionary."
   ]
  },
  {
   "cell_type": "code",
   "execution_count": null,
   "id": "6f58250e",
   "metadata": {},
   "outputs": [],
   "source": []
  }
 ],
 "metadata": {
  "kernelspec": {
   "display_name": "Python 3 (ipykernel)",
   "language": "python",
   "name": "python3"
  },
  "language_info": {
   "codemirror_mode": {
    "name": "ipython",
    "version": 3
   },
   "file_extension": ".py",
   "mimetype": "text/x-python",
   "name": "python",
   "nbconvert_exporter": "python",
   "pygments_lexer": "ipython3",
   "version": "3.9.12"
  }
 },
 "nbformat": 4,
 "nbformat_minor": 5
}
